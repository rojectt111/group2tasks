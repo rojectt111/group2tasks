{
 "cells": [
  {
   "cell_type": "code",
   "execution_count": 3,
   "id": "afb30708-4acc-488e-8da6-e04a654f704e",
   "metadata": {},
   "outputs": [],
   "source": [
    "# Exercise 01 "
   ]
  },
  {
   "cell_type": "code",
   "execution_count": 13,
   "id": "c7cfe245-c88d-4a9f-b739-91747bc0cc09",
   "metadata": {},
   "outputs": [],
   "source": [
    "a = \"1\""
   ]
  },
  {
   "cell_type": "code",
   "execution_count": 5,
   "id": "69790e50-82d7-4c12-ad0f-67db6fc62a5b",
   "metadata": {},
   "outputs": [
    {
     "data": {
      "text/plain": [
       "'1'"
      ]
     },
     "execution_count": 5,
     "metadata": {},
     "output_type": "execute_result"
    }
   ],
   "source": [
    "a"
   ]
  },
  {
   "cell_type": "code",
   "execution_count": 6,
   "id": "996fe6e2-9ebe-4bd6-a804-123e4581cdd7",
   "metadata": {},
   "outputs": [],
   "source": [
    "# Exercise 02"
   ]
  },
  {
   "cell_type": "code",
   "execution_count": 7,
   "id": "40175e0a-1cbd-42c7-b908-5f3362eeea9e",
   "metadata": {},
   "outputs": [],
   "source": [
    "b = \"2\""
   ]
  },
  {
   "cell_type": "code",
   "execution_count": 8,
   "id": "b63fbde7-2de0-41b6-ae2a-c80b1a4fea32",
   "metadata": {},
   "outputs": [
    {
     "data": {
      "text/plain": [
       "'2'"
      ]
     },
     "execution_count": 8,
     "metadata": {},
     "output_type": "execute_result"
    }
   ],
   "source": [
    "b"
   ]
  },
  {
   "cell_type": "code",
   "execution_count": 9,
   "id": "d2b40415-6970-4ba3-8045-14b5fb078817",
   "metadata": {},
   "outputs": [],
   "source": [
    "# Exercise 03"
   ]
  },
  {
   "cell_type": "code",
   "execution_count": 11,
   "id": "27a0072d-0895-4924-abc6-3f360db0f8c8",
   "metadata": {},
   "outputs": [],
   "source": [
    "c = a + b"
   ]
  },
  {
   "cell_type": "code",
   "execution_count": 20,
   "id": "f45a3dad-f2c2-4b13-9b92-621045cbf6db",
   "metadata": {},
   "outputs": [
    {
     "data": {
      "text/plain": [
       "'12'"
      ]
     },
     "execution_count": 20,
     "metadata": {},
     "output_type": "execute_result"
    }
   ],
   "source": [
    "c"
   ]
  },
  {
   "cell_type": "code",
   "execution_count": 21,
   "id": "c322ec48-7236-42de-a8b1-1f647ebcafcd",
   "metadata": {},
   "outputs": [],
   "source": [
    "# Exercise 04"
   ]
  },
  {
   "cell_type": "code",
   "execution_count": 14,
   "id": "cf0894eb-5065-4829-be42-75b052a92037",
   "metadata": {},
   "outputs": [],
   "source": [
    "d = \"ABCDEFG\""
   ]
  },
  {
   "cell_type": "code",
   "execution_count": 22,
   "id": "6ff747a4-1cda-4e74-9e1a-0f4904f4d165",
   "metadata": {},
   "outputs": [
    {
     "data": {
      "text/plain": [
       "'ABC'"
      ]
     },
     "execution_count": 22,
     "metadata": {},
     "output_type": "execute_result"
    }
   ],
   "source": [
    "d[0:3]"
   ]
  },
  {
   "cell_type": "code",
   "execution_count": 23,
   "id": "42ac4ffc-2942-4a19-b7ac-76cf1d2414b1",
   "metadata": {},
   "outputs": [],
   "source": [
    "# Exercise 05"
   ]
  },
  {
   "cell_type": "code",
   "execution_count": 17,
   "id": "79d56516-b439-4014-b1a5-f542303da5a7",
   "metadata": {},
   "outputs": [],
   "source": [
    "e = 'clocrkr1e1c1t'"
   ]
  },
  {
   "cell_type": "code",
   "execution_count": 18,
   "id": "615bd31a-a3f0-4277-a9c1-a5d58b6ce7fb",
   "metadata": {},
   "outputs": [
    {
     "data": {
      "text/plain": [
       "'correct'"
      ]
     },
     "execution_count": 18,
     "metadata": {},
     "output_type": "execute_result"
    }
   ],
   "source": [
    "e[::2]"
   ]
  },
  {
   "cell_type": "code",
   "execution_count": 24,
   "id": "630d9637-cf7a-44f6-8c14-914af4709c7f",
   "metadata": {},
   "outputs": [],
   "source": [
    "# Exercise 06"
   ]
  },
  {
   "cell_type": "code",
   "execution_count": 49,
   "id": "96de8ef4-fc12-4d92-ab6c-aa06a8884c57",
   "metadata": {},
   "outputs": [
    {
     "data": {
      "text/plain": [
       "'\\\\'"
      ]
     },
     "execution_count": 49,
     "metadata": {},
     "output_type": "execute_result"
    }
   ],
   "source": [
    " \"\\\\\""
   ]
  },
  {
   "cell_type": "code",
   "execution_count": 44,
   "id": "ef18ef9a-d8a3-4989-a6d0-4bdb13d215a2",
   "metadata": {},
   "outputs": [],
   "source": [
    "# Exercise 07"
   ]
  },
  {
   "cell_type": "code",
   "execution_count": 50,
   "id": "eb8dd7d2-bdc6-40fe-b327-9f4b4b5e233a",
   "metadata": {},
   "outputs": [],
   "source": [
    "f = \"you are wrong\""
   ]
  },
  {
   "cell_type": "code",
   "execution_count": 54,
   "id": "8903bbff-585b-4893-868d-9ee00b8234ca",
   "metadata": {},
   "outputs": [
    {
     "data": {
      "text/plain": [
       "'YOU ARE WRONG'"
      ]
     },
     "execution_count": 54,
     "metadata": {},
     "output_type": "execute_result"
    }
   ],
   "source": [
    "f.upper()"
   ]
  },
  {
   "cell_type": "code",
   "execution_count": 55,
   "id": "e339897f-36b6-4ef5-bce0-6ac193dd2bdf",
   "metadata": {},
   "outputs": [],
   "source": [
    "# Exercise 08"
   ]
  },
  {
   "cell_type": "code",
   "execution_count": 56,
   "id": "e0aca94c-c739-461a-b9b7-c4d4c2f82946",
   "metadata": {},
   "outputs": [],
   "source": [
    "g = \"Mary had a little lamb Little lamb, little lamb Mary had a little lamb \\\n",
    "Its fleece was white as snow And everywhere that Mary went Mary went, Mary went \\\n",
    "Everywhere that Mary went The lamb was sure to go\""
   ]
  },
  {
   "cell_type": "code",
   "execution_count": 57,
   "id": "47a4072a-2a76-4179-801d-4af4f692b922",
   "metadata": {},
   "outputs": [
    {
     "data": {
      "text/plain": [
       "95"
      ]
     },
     "execution_count": 57,
     "metadata": {},
     "output_type": "execute_result"
    }
   ],
   "source": [
    "g.find('snow')"
   ]
  },
  {
   "cell_type": "code",
   "execution_count": 58,
   "id": "aafceba2-e170-4585-948f-36cc54a21895",
   "metadata": {},
   "outputs": [],
   "source": [
    "# Exercise 09"
   ]
  },
  {
   "cell_type": "code",
   "execution_count": 59,
   "id": "a30b1507-d1b8-47ce-8ac2-17ca84fe3187",
   "metadata": {},
   "outputs": [
    {
     "data": {
      "text/plain": [
       "'Bob had a little lamb Little lamb, little lamb Bob had a little lamb Its fleece was white as snow And everywhere that Bob went Bob went, Bob went Everywhere that Bob went The lamb was sure to go'"
      ]
     },
     "execution_count": 59,
     "metadata": {},
     "output_type": "execute_result"
    }
   ],
   "source": [
    "g.replace(\"Mary\",\"Bob\")"
   ]
  },
  {
   "cell_type": "markdown",
   "id": "8ba31d26-d102-4471-8f8c-3c48808e6e40",
   "metadata": {},
   "source": [
    "END."
   ]
  }
 ],
 "metadata": {
  "kernelspec": {
   "display_name": "Python 3 (ipykernel)",
   "language": "python",
   "name": "python3"
  },
  "language_info": {
   "codemirror_mode": {
    "name": "ipython",
    "version": 3
   },
   "file_extension": ".py",
   "mimetype": "text/x-python",
   "name": "python",
   "nbconvert_exporter": "python",
   "pygments_lexer": "ipython3",
   "version": "3.9.5"
  }
 },
 "nbformat": 4,
 "nbformat_minor": 5
}

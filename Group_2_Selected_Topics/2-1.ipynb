{
 "cells": [
  {
   "cell_type": "code",
   "execution_count": 2,
   "id": "004a47ec-6cb7-41ad-87f1-e53bf36e1e1e",
   "metadata": {},
   "outputs": [],
   "source": [
    "genres_tuple = (\"pop\", \"rock\", \"soul\", \"hard rock\", \"soft rock\", \\\n",
    "                \"R&B\", \"progressive rock\", \"disco\") \n"
   ]
  },
  {
   "cell_type": "code",
   "execution_count": 6,
   "id": "6827a168-a1ce-4456-838a-f7977c98d015",
   "metadata": {},
   "outputs": [
    {
     "data": {
      "text/plain": [
       "8"
      ]
     },
     "execution_count": 6,
     "metadata": {},
     "output_type": "execute_result"
    }
   ],
   "source": [
    "len(genres_tuple)"
   ]
  },
  {
   "cell_type": "code",
   "execution_count": 12,
   "id": "189adf12-7f63-48b5-8ee4-d6e6e1e55d49",
   "metadata": {},
   "outputs": [
    {
     "data": {
      "text/plain": [
       "('pop', 'rock', 'soul')"
      ]
     },
     "execution_count": 12,
     "metadata": {},
     "output_type": "execute_result"
    }
   ],
   "source": [
    "genres_tuple[0:3]"
   ]
  },
  {
   "cell_type": "code",
   "execution_count": 10,
   "id": "a03976dc-cb9b-421a-83eb-01b8f0ea3233",
   "metadata": {},
   "outputs": [
    {
     "data": {
      "text/plain": [
       "'R&B'"
      ]
     },
     "execution_count": 10,
     "metadata": {},
     "output_type": "execute_result"
    }
   ],
   "source": [
    "genres_tuple[3]\n",
    "genres_tuple[4]\n",
    "genres_tuple[5]"
   ]
  },
  {
   "cell_type": "code",
   "execution_count": 13,
   "id": "18acd3b3-b741-49b2-86c7-075c9e8e7231",
   "metadata": {},
   "outputs": [
    {
     "data": {
      "text/plain": [
       "('pop', 'rock')"
      ]
     },
     "execution_count": 13,
     "metadata": {},
     "output_type": "execute_result"
    }
   ],
   "source": [
    "genres_tuple[0:2]"
   ]
  },
  {
   "cell_type": "code",
   "execution_count": 14,
   "id": "c643ccc6-6ef1-4f66-8425-4396abdd91fa",
   "metadata": {},
   "outputs": [],
   "source": [
    "tuple1 = (\"disco\",10,1.2 )"
   ]
  },
  {
   "cell_type": "code",
   "execution_count": 15,
   "id": "063ce5c8-26b9-4a04-892e-0b1984e5e983",
   "metadata": {},
   "outputs": [
    {
     "data": {
      "text/plain": [
       "'d'"
      ]
     },
     "execution_count": 15,
     "metadata": {},
     "output_type": "execute_result"
    }
   ],
   "source": [
    "tuple1[0][0]"
   ]
  },
  {
   "cell_type": "code",
   "execution_count": 16,
   "id": "d20669af-51a8-4f5a-8d8b-9681e232345b",
   "metadata": {},
   "outputs": [],
   "source": [
    " C_tuple=(-5, 1, -3)"
   ]
  },
  {
   "cell_type": "code",
   "execution_count": 19,
   "id": "64ebc338-161c-4743-ad62-d41e5cf5efef",
   "metadata": {},
   "outputs": [],
   "source": [
    "C_sorted = sorted(C_tuple)"
   ]
  },
  {
   "cell_type": "code",
   "execution_count": 20,
   "id": "424ab9fe-c1b5-432b-86c7-283b6fa69381",
   "metadata": {},
   "outputs": [
    {
     "data": {
      "text/plain": [
       "[-5, -3, 1]"
      ]
     },
     "execution_count": 20,
     "metadata": {},
     "output_type": "execute_result"
    }
   ],
   "source": [
    "C_sorted"
   ]
  },
  {
   "cell_type": "markdown",
   "id": "086c401d-ff0d-4921-843f-6aa8c3022576",
   "metadata": {},
   "source": [
    "End."
   ]
  }
 ],
 "metadata": {
  "kernelspec": {
   "display_name": "Python 3 (ipykernel)",
   "language": "python",
   "name": "python3"
  },
  "language_info": {
   "codemirror_mode": {
    "name": "ipython",
    "version": 3
   },
   "file_extension": ".py",
   "mimetype": "text/x-python",
   "name": "python",
   "nbconvert_exporter": "python",
   "pygments_lexer": "ipython3",
   "version": "3.9.5"
  }
 },
 "nbformat": 4,
 "nbformat_minor": 5
}

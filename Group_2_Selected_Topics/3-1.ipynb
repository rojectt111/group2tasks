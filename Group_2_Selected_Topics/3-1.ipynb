{
 "cells": [
  {
   "cell_type": "code",
   "execution_count": 2,
   "id": "5494e38e-5b34-4c20-9101-b9071d6e4e30",
   "metadata": {},
   "outputs": [
    {
     "name": "stdout",
     "output_type": "stream",
     "text": [
      "This album is Amazing \n"
     ]
    }
   ],
   "source": [
    "Backinblack = 8.5\n",
    "album_rating = 10\n",
    "\n",
    "if (album_rating > Backinblack):\n",
    "    print(\"This album is Amazing \")"
   ]
  },
  {
   "cell_type": "code",
   "execution_count": 4,
   "id": "e870e4a5-bb71-4507-8a2e-40d03355c652",
   "metadata": {},
   "outputs": [
    {
     "name": "stdout",
     "output_type": "stream",
     "text": [
      "This album is Amazing \n"
     ]
    }
   ],
   "source": [
    "if (album_rating > 8):\n",
    "    print(\"This album is Amazing \")\n",
    "    \n",
    "else:\n",
    "     print(\"This album is OK \")   "
   ]
  },
  {
   "cell_type": "code",
   "execution_count": 7,
   "id": "0d81a6a7-bff3-4011-92bc-d6ef0cd67146",
   "metadata": {},
   "outputs": [
    {
     "name": "stdout",
     "output_type": "stream",
     "text": [
      "1960\n"
     ]
    }
   ],
   "source": [
    "album_year = 1960\n",
    "if(album_year < 1980 or album_year == 1991 or album_year == 1993):\n",
    "    print(album_year)"
   ]
  },
  {
   "cell_type": "markdown",
   "id": "0e03d89e-0179-4050-bb5b-37c4d83dc29f",
   "metadata": {},
   "source": [
    "END"
   ]
  }
 ],
 "metadata": {
  "kernelspec": {
   "display_name": "Python 3 (ipykernel)",
   "language": "python",
   "name": "python3"
  },
  "language_info": {
   "codemirror_mode": {
    "name": "ipython",
    "version": 3
   },
   "file_extension": ".py",
   "mimetype": "text/x-python",
   "name": "python",
   "nbconvert_exporter": "python",
   "pygments_lexer": "ipython3",
   "version": "3.9.5"
  }
 },
 "nbformat": 4,
 "nbformat_minor": 5
}

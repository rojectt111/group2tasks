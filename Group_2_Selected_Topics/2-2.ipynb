{
 "cells": [
  {
   "cell_type": "code",
   "execution_count": 5,
   "id": "d8af4fe3-68fc-47cf-9f18-b3e313a993fa",
   "metadata": {},
   "outputs": [],
   "source": [
    "a_list = [1,\"hello\",[1,2,3],True]"
   ]
  },
  {
   "cell_type": "code",
   "execution_count": 7,
   "id": "304c8aa7-3914-4de1-a920-c2ccaaed7efe",
   "metadata": {},
   "outputs": [
    {
     "data": {
      "text/plain": [
       "'hello'"
      ]
     },
     "execution_count": 7,
     "metadata": {},
     "output_type": "execute_result"
    }
   ],
   "source": [
    "a_list[1]"
   ]
  },
  {
   "cell_type": "code",
   "execution_count": 3,
   "id": "b2e154ae-739a-4dc8-af90-96fb3f8a6144",
   "metadata": {},
   "outputs": [
    {
     "data": {
      "text/plain": [
       "['hello', [1, 2, 3], True]"
      ]
     },
     "execution_count": 3,
     "metadata": {},
     "output_type": "execute_result"
    }
   ],
   "source": [
    "a_list[1:4]"
   ]
  },
  {
   "cell_type": "code",
   "execution_count": 19,
   "id": "a9c9d55a-588f-462d-87ce-68678748f207",
   "metadata": {},
   "outputs": [],
   "source": [
    "A = [1,'a']\n",
    "B = [2,1,'d']"
   ]
  },
  {
   "cell_type": "code",
   "execution_count": 20,
   "id": "6be2e8af-e5c2-41f7-bbc4-438b7696508d",
   "metadata": {},
   "outputs": [],
   "source": [
    "B.append(A[:])"
   ]
  },
  {
   "cell_type": "code",
   "execution_count": 21,
   "id": "9fb80611-0280-4c97-9c3b-4e8f5e437173",
   "metadata": {},
   "outputs": [
    {
     "data": {
      "text/plain": [
       "[2, 1, 'd', [1, 'a']]"
      ]
     },
     "execution_count": 21,
     "metadata": {},
     "output_type": "execute_result"
    }
   ],
   "source": [
    "B"
   ]
  }
 ],
 "metadata": {
  "kernelspec": {
   "display_name": "Python 3 (ipykernel)",
   "language": "python",
   "name": "python3"
  },
  "language_info": {
   "codemirror_mode": {
    "name": "ipython",
    "version": 3
   },
   "file_extension": ".py",
   "mimetype": "text/x-python",
   "name": "python",
   "nbconvert_exporter": "python",
   "pygments_lexer": "ipython3",
   "version": "3.9.5"
  }
 },
 "nbformat": 4,
 "nbformat_minor": 5
}

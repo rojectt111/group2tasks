{
 "cells": [
  {
   "cell_type": "code",
   "execution_count": 1,
   "id": "08f26d1c-961b-4229-aa58-30f359df93c3",
   "metadata": {},
   "outputs": [],
   "source": [
    "# first Program"
   ]
  },
  {
   "cell_type": "code",
   "execution_count": 2,
   "id": "475baa67-17a5-41a8-ad22-2fe99d471a4c",
   "metadata": {},
   "outputs": [
    {
     "name": "stdout",
     "output_type": "stream",
     "text": [
      "Hello , World\n"
     ]
    }
   ],
   "source": [
    "print(\"Hello , World\")"
   ]
  },
  {
   "cell_type": "code",
   "execution_count": 3,
   "id": "fa6cd6d2-e29c-40ca-87ae-5ae5d256acc5",
   "metadata": {},
   "outputs": [],
   "source": [
    "# Print the traditional hello world all in one line of code."
   ]
  },
  {
   "cell_type": "code",
   "execution_count": 4,
   "id": "499d5553-5d45-46f9-9c7b-8ba8b6fc9554",
   "metadata": {},
   "outputs": [
    {
     "data": {
      "text/plain": [
       "float"
      ]
     },
     "execution_count": 4,
     "metadata": {},
     "output_type": "execute_result"
    }
   ],
   "source": [
    "type(6/2)"
   ]
  },
  {
   "cell_type": "code",
   "execution_count": 5,
   "id": "a0c34cd0-9958-48fa-a209-2277c11c4687",
   "metadata": {},
   "outputs": [
    {
     "data": {
      "text/plain": [
       "int"
      ]
     },
     "execution_count": 5,
     "metadata": {},
     "output_type": "execute_result"
    }
   ],
   "source": [
    "type(6//2)"
   ]
  },
  {
   "cell_type": "code",
   "execution_count": 8,
   "id": "4dc4eeca-a711-48fe-8252-c2d6e3471469",
   "metadata": {},
   "outputs": [
    {
     "data": {
      "text/plain": [
       "2"
      ]
     },
     "execution_count": 8,
     "metadata": {},
     "output_type": "execute_result"
    }
   ],
   "source": [
    "160//60"
   ]
  },
  {
   "cell_type": "code",
   "execution_count": 9,
   "id": "050adbc2-264f-4946-9e17-90fd8e576078",
   "metadata": {},
   "outputs": [
    {
     "data": {
      "text/plain": [
       "150"
      ]
     },
     "execution_count": 9,
     "metadata": {},
     "output_type": "execute_result"
    }
   ],
   "source": [
    "30+2*60"
   ]
  },
  {
   "cell_type": "code",
   "execution_count": 10,
   "id": "ddbd575b-2f9f-41d4-adfd-b520e1b129ab",
   "metadata": {},
   "outputs": [
    {
     "data": {
      "text/plain": [
       "1920"
      ]
     },
     "execution_count": 10,
     "metadata": {},
     "output_type": "execute_result"
    }
   ],
   "source": [
    "(30+2)*60"
   ]
  },
  {
   "cell_type": "code",
   "execution_count": 11,
   "id": "84f8ed18-6e61-44b1-9984-4c71f3462a35",
   "metadata": {},
   "outputs": [],
   "source": [
    "x= 3 + 2 * 2 "
   ]
  },
  {
   "cell_type": "code",
   "execution_count": 12,
   "id": "57e573c4-69cc-4361-bd89-c9d9dbf2d336",
   "metadata": {},
   "outputs": [
    {
     "data": {
      "text/plain": [
       "7"
      ]
     },
     "execution_count": 12,
     "metadata": {},
     "output_type": "execute_result"
    }
   ],
   "source": [
    "x"
   ]
  },
  {
   "cell_type": "code",
   "execution_count": 13,
   "id": "693f8e0f-2a4b-4e0e-8fb3-78f717b8e47b",
   "metadata": {},
   "outputs": [],
   "source": [
    "y= (3 + 2) * 2 "
   ]
  },
  {
   "cell_type": "code",
   "execution_count": 14,
   "id": "8ad308f2-0f74-4f03-b51e-dd4677401bb9",
   "metadata": {},
   "outputs": [
    {
     "data": {
      "text/plain": [
       "10"
      ]
     },
     "execution_count": 14,
     "metadata": {},
     "output_type": "execute_result"
    }
   ],
   "source": [
    "y"
   ]
  },
  {
   "cell_type": "code",
   "execution_count": 15,
   "id": "bb56a866-b2e7-4ec2-844c-be5d658704c0",
   "metadata": {},
   "outputs": [],
   "source": [
    "z = x+y"
   ]
  },
  {
   "cell_type": "code",
   "execution_count": 16,
   "id": "afa2e197-d378-433d-924d-66af952a19c6",
   "metadata": {},
   "outputs": [
    {
     "data": {
      "text/plain": [
       "17"
      ]
     },
     "execution_count": 16,
     "metadata": {},
     "output_type": "execute_result"
    }
   ],
   "source": [
    "z"
   ]
  },
  {
   "cell_type": "markdown",
   "id": "1ec22f73-f495-4e16-8c0a-63b93e9f7d3c",
   "metadata": {},
   "source": [
    "End."
   ]
  }
 ],
 "metadata": {
  "kernelspec": {
   "display_name": "Python 3 (ipykernel)",
   "language": "python",
   "name": "python3"
  },
  "language_info": {
   "codemirror_mode": {
    "name": "ipython",
    "version": 3
   },
   "file_extension": ".py",
   "mimetype": "text/x-python",
   "name": "python",
   "nbconvert_exporter": "python",
   "pygments_lexer": "ipython3",
   "version": "3.9.5"
  }
 },
 "nbformat": 4,
 "nbformat_minor": 5
}
